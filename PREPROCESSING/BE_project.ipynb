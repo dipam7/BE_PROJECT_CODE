{
 "cells": [
  {
   "cell_type": "code",
   "execution_count": 1,
   "metadata": {
    "collapsed": true
   },
   "outputs": [],
   "source": [
    "import pandas as pd\n",
    "from sklearn.model_selection import train_test_split\n",
    "from sklearn.ensemble import RandomForestClassifier\n",
    "from sklearn.metrics import accuracy_score\n",
    "from sklearn.metrics import confusion_matrix\n",
    "from sklearn.metrics import classification_report"
   ]
  },
  {
   "cell_type": "code",
   "execution_count": 2,
   "metadata": {},
   "outputs": [
    {
     "data": {
      "text/html": [
       "<div>\n",
       "<style>\n",
       "    .dataframe thead tr:only-child th {\n",
       "        text-align: right;\n",
       "    }\n",
       "\n",
       "    .dataframe thead th {\n",
       "        text-align: left;\n",
       "    }\n",
       "\n",
       "    .dataframe tbody tr th {\n",
       "        vertical-align: top;\n",
       "    }\n",
       "</style>\n",
       "<table border=\"1\" class=\"dataframe\">\n",
       "  <thead>\n",
       "    <tr style=\"text-align: right;\">\n",
       "      <th></th>\n",
       "      <th>p_id</th>\n",
       "      <th>d_id</th>\n",
       "      <th>location_of_access</th>\n",
       "      <th>time_of_access</th>\n",
       "      <th>Specialization</th>\n",
       "      <th>diagnostic_category</th>\n",
       "      <th>emergency</th>\n",
       "      <th>access_granted</th>\n",
       "    </tr>\n",
       "  </thead>\n",
       "  <tbody>\n",
       "    <tr>\n",
       "      <th>0</th>\n",
       "      <td>0f5dd9c2-4444-445c-9c4d-dd458450a6ac</td>\n",
       "      <td>1085ca4a-d2e9-41a7-adeb-ead185f9547b</td>\n",
       "      <td>00:16:3e:59:66:25</td>\n",
       "      <td>14:37</td>\n",
       "      <td>GENERAL PRACTICE</td>\n",
       "      <td>INJURIES / POSIONING AND TOXIC EFFECTS OF DRUGS</td>\n",
       "      <td>no</td>\n",
       "      <td>yes</td>\n",
       "    </tr>\n",
       "    <tr>\n",
       "      <th>1</th>\n",
       "      <td>6301e923-b258-4d3c-bf5e-50fdaedd8ffd</td>\n",
       "      <td>1085ca4a-d2e9-41a7-adeb-ead185f9547b</td>\n",
       "      <td>00:16:3e:59:66:25</td>\n",
       "      <td>19:58</td>\n",
       "      <td>GENERAL PRACTICE</td>\n",
       "      <td>FACTORS INFLUENCING HEALTH STATUS AND OTHER C...</td>\n",
       "      <td>no</td>\n",
       "      <td>yes</td>\n",
       "    </tr>\n",
       "    <tr>\n",
       "      <th>2</th>\n",
       "      <td>0806f223-e089-48b1-add0-4281b6983745</td>\n",
       "      <td>1085ca4a-d2e9-41a7-adeb-ead185f9547b</td>\n",
       "      <td>00:16:3e:59:66:25</td>\n",
       "      <td>12:23</td>\n",
       "      <td>GENERAL PRACTICE</td>\n",
       "      <td>SKIN + SUBCUTANEOUS TISSUE AND BREAST</td>\n",
       "      <td>no</td>\n",
       "      <td>yes</td>\n",
       "    </tr>\n",
       "    <tr>\n",
       "      <th>3</th>\n",
       "      <td>d05ebf41-ad86-4671-a6ba-2921334279b2</td>\n",
       "      <td>1085ca4a-d2e9-41a7-adeb-ead185f9547b</td>\n",
       "      <td>00:16:3e:59:66:25</td>\n",
       "      <td>16:48</td>\n",
       "      <td>GENERAL PRACTICE</td>\n",
       "      <td>RESPIRATORY SYSTEM</td>\n",
       "      <td>no</td>\n",
       "      <td>yes</td>\n",
       "    </tr>\n",
       "    <tr>\n",
       "      <th>4</th>\n",
       "      <td>e85a08b1-ec4e-479d-900c-ee09583736da</td>\n",
       "      <td>1085ca4a-d2e9-41a7-adeb-ead185f9547b</td>\n",
       "      <td>00:16:3e:59:66:25</td>\n",
       "      <td>17:29</td>\n",
       "      <td>GENERAL PRACTICE</td>\n",
       "      <td>BURNS</td>\n",
       "      <td>no</td>\n",
       "      <td>yes</td>\n",
       "    </tr>\n",
       "  </tbody>\n",
       "</table>\n",
       "</div>"
      ],
      "text/plain": [
       "                                   p_id                                  d_id  \\\n",
       "0  0f5dd9c2-4444-445c-9c4d-dd458450a6ac  1085ca4a-d2e9-41a7-adeb-ead185f9547b   \n",
       "1  6301e923-b258-4d3c-bf5e-50fdaedd8ffd  1085ca4a-d2e9-41a7-adeb-ead185f9547b   \n",
       "2  0806f223-e089-48b1-add0-4281b6983745  1085ca4a-d2e9-41a7-adeb-ead185f9547b   \n",
       "3  d05ebf41-ad86-4671-a6ba-2921334279b2  1085ca4a-d2e9-41a7-adeb-ead185f9547b   \n",
       "4  e85a08b1-ec4e-479d-900c-ee09583736da  1085ca4a-d2e9-41a7-adeb-ead185f9547b   \n",
       "\n",
       "  location_of_access time_of_access    Specialization  \\\n",
       "0  00:16:3e:59:66:25          14:37  GENERAL PRACTICE   \n",
       "1  00:16:3e:59:66:25          19:58  GENERAL PRACTICE   \n",
       "2  00:16:3e:59:66:25          12:23  GENERAL PRACTICE   \n",
       "3  00:16:3e:59:66:25          16:48  GENERAL PRACTICE   \n",
       "4  00:16:3e:59:66:25          17:29  GENERAL PRACTICE   \n",
       "\n",
       "                                 diagnostic_category emergency access_granted  \n",
       "0    INJURIES / POSIONING AND TOXIC EFFECTS OF DRUGS        no            yes  \n",
       "1   FACTORS INFLUENCING HEALTH STATUS AND OTHER C...        no            yes  \n",
       "2              SKIN + SUBCUTANEOUS TISSUE AND BREAST        no            yes  \n",
       "3                                 RESPIRATORY SYSTEM        no            yes  \n",
       "4                                              BURNS        no            yes  "
      ]
     },
     "execution_count": 2,
     "metadata": {},
     "output_type": "execute_result"
    }
   ],
   "source": [
    "access = pd.read_csv('generated_access_data.csv')\n",
    "access.head()"
   ]
  },
  {
   "cell_type": "code",
   "execution_count": 3,
   "metadata": {},
   "outputs": [
    {
     "data": {
      "text/plain": [
       "858400"
      ]
     },
     "execution_count": 3,
     "metadata": {},
     "output_type": "execute_result"
    }
   ],
   "source": [
    "# count the number of entries\n",
    "len(access)"
   ]
  },
  {
   "cell_type": "code",
   "execution_count": 4,
   "metadata": {},
   "outputs": [
    {
     "data": {
      "text/plain": [
       "p_id                   0\n",
       "d_id                   0\n",
       "location_of_access     0\n",
       "time_of_access         0\n",
       "Specialization         0\n",
       "diagnostic_category    0\n",
       "emergency              0\n",
       "access_granted         0\n",
       "dtype: int64"
      ]
     },
     "execution_count": 4,
     "metadata": {},
     "output_type": "execute_result"
    }
   ],
   "source": [
    "# check if there are any null values\n",
    "access.isnull().sum()"
   ]
  },
  {
   "cell_type": "code",
   "execution_count": 5,
   "metadata": {},
   "outputs": [
    {
     "data": {
      "text/html": [
       "<div>\n",
       "<style>\n",
       "    .dataframe thead tr:only-child th {\n",
       "        text-align: right;\n",
       "    }\n",
       "\n",
       "    .dataframe thead th {\n",
       "        text-align: left;\n",
       "    }\n",
       "\n",
       "    .dataframe tbody tr th {\n",
       "        vertical-align: top;\n",
       "    }\n",
       "</style>\n",
       "<table border=\"1\" class=\"dataframe\">\n",
       "  <thead>\n",
       "    <tr style=\"text-align: right;\">\n",
       "      <th></th>\n",
       "      <th>diagnostic_category</th>\n",
       "      <th>location_of_access</th>\n",
       "      <th>time_of_access</th>\n",
       "      <th>emergency</th>\n",
       "      <th>previous_history</th>\n",
       "      <th>access_granted</th>\n",
       "    </tr>\n",
       "  </thead>\n",
       "  <tbody>\n",
       "    <tr>\n",
       "      <th>0</th>\n",
       "      <td>1.0</td>\n",
       "      <td>1.0</td>\n",
       "      <td>1.0</td>\n",
       "      <td>0</td>\n",
       "      <td>0.95</td>\n",
       "      <td>1</td>\n",
       "    </tr>\n",
       "    <tr>\n",
       "      <th>1</th>\n",
       "      <td>1.0</td>\n",
       "      <td>1.0</td>\n",
       "      <td>1.0</td>\n",
       "      <td>0</td>\n",
       "      <td>0.95</td>\n",
       "      <td>1</td>\n",
       "    </tr>\n",
       "    <tr>\n",
       "      <th>2</th>\n",
       "      <td>1.0</td>\n",
       "      <td>1.0</td>\n",
       "      <td>1.0</td>\n",
       "      <td>0</td>\n",
       "      <td>0.95</td>\n",
       "      <td>1</td>\n",
       "    </tr>\n",
       "    <tr>\n",
       "      <th>3</th>\n",
       "      <td>1.0</td>\n",
       "      <td>1.0</td>\n",
       "      <td>1.0</td>\n",
       "      <td>0</td>\n",
       "      <td>0.95</td>\n",
       "      <td>1</td>\n",
       "    </tr>\n",
       "    <tr>\n",
       "      <th>4</th>\n",
       "      <td>1.0</td>\n",
       "      <td>1.0</td>\n",
       "      <td>1.0</td>\n",
       "      <td>0</td>\n",
       "      <td>0.95</td>\n",
       "      <td>1</td>\n",
       "    </tr>\n",
       "  </tbody>\n",
       "</table>\n",
       "</div>"
      ],
      "text/plain": [
       "   diagnostic_category  location_of_access  time_of_access  emergency  \\\n",
       "0                  1.0                 1.0             1.0          0   \n",
       "1                  1.0                 1.0             1.0          0   \n",
       "2                  1.0                 1.0             1.0          0   \n",
       "3                  1.0                 1.0             1.0          0   \n",
       "4                  1.0                 1.0             1.0          0   \n",
       "\n",
       "   previous_history  access_granted  \n",
       "0              0.95               1  \n",
       "1              0.95               1  \n",
       "2              0.95               1  \n",
       "3              0.95               1  \n",
       "4              0.95               1  "
      ]
     },
     "execution_count": 5,
     "metadata": {},
     "output_type": "execute_result"
    }
   ],
   "source": [
    "fuzzified = pd.read_csv('generated_fuzzified_access_data.csv')\n",
    "fuzzified.head()"
   ]
  },
  {
   "cell_type": "code",
   "execution_count": 6,
   "metadata": {},
   "outputs": [
    {
     "data": {
      "text/html": [
       "<div>\n",
       "<style>\n",
       "    .dataframe thead tr:only-child th {\n",
       "        text-align: right;\n",
       "    }\n",
       "\n",
       "    .dataframe thead th {\n",
       "        text-align: left;\n",
       "    }\n",
       "\n",
       "    .dataframe tbody tr th {\n",
       "        vertical-align: top;\n",
       "    }\n",
       "</style>\n",
       "<table border=\"1\" class=\"dataframe\">\n",
       "  <thead>\n",
       "    <tr style=\"text-align: right;\">\n",
       "      <th></th>\n",
       "      <th>diagnostic_category</th>\n",
       "      <th>location_of_access</th>\n",
       "      <th>time_of_access</th>\n",
       "      <th>emergency</th>\n",
       "      <th>previous_history</th>\n",
       "      <th>access_granted</th>\n",
       "    </tr>\n",
       "  </thead>\n",
       "  <tbody>\n",
       "    <tr>\n",
       "      <th>count</th>\n",
       "      <td>858400.000000</td>\n",
       "      <td>858400.00000</td>\n",
       "      <td>858400.000000</td>\n",
       "      <td>858400.000000</td>\n",
       "      <td>858400.000000</td>\n",
       "      <td>858400.000000</td>\n",
       "    </tr>\n",
       "    <tr>\n",
       "      <th>mean</th>\n",
       "      <td>0.713793</td>\n",
       "      <td>0.74141</td>\n",
       "      <td>0.865731</td>\n",
       "      <td>0.024395</td>\n",
       "      <td>0.749247</td>\n",
       "      <td>0.799449</td>\n",
       "    </tr>\n",
       "    <tr>\n",
       "      <th>std</th>\n",
       "      <td>0.384819</td>\n",
       "      <td>0.38553</td>\n",
       "      <td>0.286185</td>\n",
       "      <td>0.154273</td>\n",
       "      <td>0.266177</td>\n",
       "      <td>0.400413</td>\n",
       "    </tr>\n",
       "    <tr>\n",
       "      <th>min</th>\n",
       "      <td>0.100000</td>\n",
       "      <td>0.00000</td>\n",
       "      <td>0.000000</td>\n",
       "      <td>0.000000</td>\n",
       "      <td>0.000000</td>\n",
       "      <td>0.000000</td>\n",
       "    </tr>\n",
       "    <tr>\n",
       "      <th>25%</th>\n",
       "      <td>0.500000</td>\n",
       "      <td>0.50000</td>\n",
       "      <td>1.000000</td>\n",
       "      <td>0.000000</td>\n",
       "      <td>0.660000</td>\n",
       "      <td>1.000000</td>\n",
       "    </tr>\n",
       "    <tr>\n",
       "      <th>50%</th>\n",
       "      <td>1.000000</td>\n",
       "      <td>1.00000</td>\n",
       "      <td>1.000000</td>\n",
       "      <td>0.000000</td>\n",
       "      <td>0.860000</td>\n",
       "      <td>1.000000</td>\n",
       "    </tr>\n",
       "    <tr>\n",
       "      <th>75%</th>\n",
       "      <td>1.000000</td>\n",
       "      <td>1.00000</td>\n",
       "      <td>1.000000</td>\n",
       "      <td>0.000000</td>\n",
       "      <td>0.930000</td>\n",
       "      <td>1.000000</td>\n",
       "    </tr>\n",
       "    <tr>\n",
       "      <th>max</th>\n",
       "      <td>1.000000</td>\n",
       "      <td>1.00000</td>\n",
       "      <td>1.000000</td>\n",
       "      <td>1.000000</td>\n",
       "      <td>1.000000</td>\n",
       "      <td>1.000000</td>\n",
       "    </tr>\n",
       "  </tbody>\n",
       "</table>\n",
       "</div>"
      ],
      "text/plain": [
       "       diagnostic_category  location_of_access  time_of_access      emergency  \\\n",
       "count        858400.000000        858400.00000   858400.000000  858400.000000   \n",
       "mean              0.713793             0.74141        0.865731       0.024395   \n",
       "std               0.384819             0.38553        0.286185       0.154273   \n",
       "min               0.100000             0.00000        0.000000       0.000000   \n",
       "25%               0.500000             0.50000        1.000000       0.000000   \n",
       "50%               1.000000             1.00000        1.000000       0.000000   \n",
       "75%               1.000000             1.00000        1.000000       0.000000   \n",
       "max               1.000000             1.00000        1.000000       1.000000   \n",
       "\n",
       "       previous_history  access_granted  \n",
       "count     858400.000000   858400.000000  \n",
       "mean           0.749247        0.799449  \n",
       "std            0.266177        0.400413  \n",
       "min            0.000000        0.000000  \n",
       "25%            0.660000        1.000000  \n",
       "50%            0.860000        1.000000  \n",
       "75%            0.930000        1.000000  \n",
       "max            1.000000        1.000000  "
      ]
     },
     "execution_count": 6,
     "metadata": {},
     "output_type": "execute_result"
    }
   ],
   "source": [
    "fuzzified.describe()"
   ]
  },
  {
   "cell_type": "code",
   "execution_count": 7,
   "metadata": {},
   "outputs": [],
   "source": [
    "# seperate the features and target variables\n",
    "features = fuzzified[['diagnostic_category', 'location_of_access', 'time_of_access', 'emergency', 'previous_history']]\n",
    "target = fuzzified['access_granted']"
   ]
  },
  {
   "cell_type": "code",
   "execution_count": 8,
   "metadata": {},
   "outputs": [],
   "source": [
    "# split the data into training and testing data\n",
    "# 70% training, 30% testing\n",
    "# random state is set so that every time the same split is achieved\n",
    "X_train, X_test, y_train, y_test = train_test_split(features, target, test_size=0.3, random_state=0)"
   ]
  },
  {
   "cell_type": "code",
   "execution_count": 9,
   "metadata": {
    "collapsed": true
   },
   "outputs": [],
   "source": [
    "# initialize a random forest classifier\n",
    "# try tuning in different parameters \n",
    "clf = RandomForestClassifier()\n",
    "clf = clf.fit(X_train, y_train)"
   ]
  },
  {
   "cell_type": "code",
   "execution_count": 10,
   "metadata": {},
   "outputs": [],
   "source": [
    "# make predictions\n",
    "predictions = clf.predict(X_test)"
   ]
  },
  {
   "cell_type": "code",
   "execution_count": 11,
   "metadata": {},
   "outputs": [
    {
     "data": {
      "text/plain": [
       "0.94187247592420009"
      ]
     },
     "execution_count": 11,
     "metadata": {},
     "output_type": "execute_result"
    }
   ],
   "source": [
    "# calculate the accuracy\n",
    "accuracy = accuracy_score(y_test, predictions)\n",
    "accuracy"
   ]
  },
  {
   "cell_type": "code",
   "execution_count": 12,
   "metadata": {},
   "outputs": [],
   "source": [
    "# calculate confusion matrix\n",
    "tn, fp, fn, tp = confusion_matrix(y_test, predictions).ravel()"
   ]
  },
  {
   "cell_type": "code",
   "execution_count": 13,
   "metadata": {},
   "outputs": [
    {
     "data": {
      "text/plain": [
       "45003"
      ]
     },
     "execution_count": 13,
     "metadata": {},
     "output_type": "execute_result"
    }
   ],
   "source": [
    "tn"
   ]
  },
  {
   "cell_type": "code",
   "execution_count": 14,
   "metadata": {},
   "outputs": [
    {
     "name": "stdout",
     "output_type": "stream",
     "text": [
      "             precision    recall  f1-score   support\n",
      "\n",
      "          0       0.84      0.87      0.86     51520\n",
      "          1       0.97      0.96      0.96    206000\n",
      "\n",
      "avg / total       0.94      0.94      0.94    257520\n",
      "\n"
     ]
    }
   ],
   "source": [
    "# precision, recall and fscore\n",
    "print(classification_report(y_test, predictions))"
   ]
  },
  {
   "cell_type": "code",
   "execution_count": null,
   "metadata": {
    "collapsed": true
   },
   "outputs": [],
   "source": []
  }
 ],
 "metadata": {
  "kernelspec": {
   "display_name": "Python 3",
   "language": "python",
   "name": "python3"
  },
  "language_info": {
   "codemirror_mode": {
    "name": "ipython",
    "version": 3
   },
   "file_extension": ".py",
   "mimetype": "text/x-python",
   "name": "python",
   "nbconvert_exporter": "python",
   "pygments_lexer": "ipython3",
   "version": "3.6.1"
  }
 },
 "nbformat": 4,
 "nbformat_minor": 2
}
